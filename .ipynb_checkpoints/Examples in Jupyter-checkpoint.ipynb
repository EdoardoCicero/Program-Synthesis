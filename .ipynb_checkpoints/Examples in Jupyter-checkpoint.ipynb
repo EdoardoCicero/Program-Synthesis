{
 "cells": [
  {
   "cell_type": "markdown",
   "metadata": {
    "colab_type": "text",
    "id": "VxxuME7DuXLN"
   },
   "source": [
    "# **TRAVERSING A TREE FOUR**"
   ]
  },
  {
   "cell_type": "markdown",
   "metadata": {
    "colab_type": "text",
    "id": "apF8PYsXuXLQ"
   },
   "source": [
    "***LTL FORMULAE***\n",
    "\n",
    "*Observations:*\n",
    "- **em**(pty) (memory is empty),\n",
    "- **ha**(s children) (current node’s children have not been put in memory)\n",
    "                \n",
    "*Actions:*\n",
    "- **e**(xtract a node from memory, for visiting), \n",
    "- **p**(ut all children of current node into memory),\n",
    "- **s**(top)"
   ]
  },
  {
   "cell_type": "markdown",
   "metadata": {},
   "source": [
    "* **Formula Pre (*Preconditions*):**\n",
    "    - G(e XOR p XOR s) AND G(s -> X s)\n",
    "    - G(e -> ¬em)\n",
    "    - G(p -> ha)\n",
    "\n",
    "\n",
    "* **Formula Eff (*Effects*): initial condition, effects, frame**\n",
    "    - NOT em\n",
    "    - G(p -> X(NOT em AND NOT ha))\n",
    "    - G(s -> (PERSISTS(em) AND PERSISTS(ha)))\n",
    "\n",
    "\n",
    "* **Formula F (*Fairness*):**\n",
    "    - (F e) -> F(em AND NOT ha)\n",
    "\n",
    "\n",
    "* **Formula G (*Goals*): visit all nodes once, i.e., end up with empty memory and no children to visit and never extract until all children of current node are put in memory**\n",
    "    - F(G(em AND NOT ha))\n",
    "    - G(ha -> (NOT e U p))\n",
    "    \n",
    "    "
   ]
  },
  {
   "cell_type": "markdown",
   "metadata": {
    "colab_type": "text",
    "id": "hP-oJHbTnAbA"
   },
   "source": [
    "***CODE TO BE PUT IN STRIX:***\n",
    "\n",
    "*Assumptions:* \n",
    "\n",
    "true\n",
    "\n",
    "*Guarantees:*\n",
    "\n",
    "G((e & !p & !s) || (!e & p & !s) || (!e & !p & s)) & G(s -> (X s))\n",
    "G(e -> !em)\n",
    "G(p -> ha)\n",
    "((!em && G(p->(X(!em & !ha))) && G(s -> ((em <-> (X em)) & (ha <-> (X ha))) )) AND ((G (F e)) -> (F(em & !ha)))) => ((F (G(em & !ha))) && G(ha -> (!e U p)))\n",
    "\n",
    "*Input propositions:*\n",
    "\n",
    "em, ha\n",
    "\n",
    "*Output propositions:*\n",
    "\n",
    "e, p, s"
   ]
  },
  {
   "cell_type": "markdown",
   "metadata": {
    "colab_type": "text",
    "id": "31-k0b1t2bIk"
   },
   "source": [
    "![alt text](./Traversing_a_tree_automata.png)"
   ]
  },
  {
   "cell_type": "markdown",
   "metadata": {
    "colab_type": "text",
    "id": "X-UHr8tTnajs"
   },
   "source": [
    "***PYTHON IMPLEMENTATION***"
   ]
  },
  {
   "cell_type": "code",
   "execution_count": 0,
   "metadata": {
    "colab": {},
    "colab_type": "code",
    "id": "xzuSQ5nPuiA8"
   },
   "outputs": [],
   "source": [
    "# Initial state\n",
    "memory = []\n",
    "\n",
    "current_state = 0\n",
    "has_children = True # instantiated only for implementation reason\n",
    "empty = False"
   ]
  },
  {
   "cell_type": "code",
   "execution_count": 0,
   "metadata": {
    "colab": {},
    "colab_type": "code",
    "id": "sO--TzbLuq1g"
   },
   "outputs": [],
   "source": [
    "# Observations:\n",
    "\n",
    "# list of nodes for the example\n",
    " \n",
    "n4 = { \"children\": []}\n",
    "n5 = { \"children\": []}\n",
    "n6 = { \"children\": []}\n",
    "n7 = { \"children\": []}\n",
    "n8 = { \"children\": []}\n",
    "n9 = { \"children\": []}\n",
    "n3 = { \"children\": [n7, n8, n9]}\n",
    "n2 = { \"children\": [n6]}\n",
    "n1 = { \"children\": [n4, n5]}\n",
    "n0 = { \"children\": [n1, n2, n3]}"
   ]
  },
  {
   "cell_type": "code",
   "execution_count": 0,
   "metadata": {
    "colab": {},
    "colab_type": "code",
    "id": "j7d3wcP9u2ft"
   },
   "outputs": [],
   "source": [
    "# actions\n",
    "\n",
    "node_extracted = {}\n",
    "\n",
    "def extract():\n",
    "    print(\"ACTION: extract\")\n",
    "    global node_extracted, has_children\n",
    "    node_extracted = memory[0]\n",
    "    \n",
    "    memory.pop(0)\n",
    "    #node_extracted[\"children\"] = []\n",
    "    \n",
    "def put_in_mem():\n",
    "    print(\"ACTION: put_in_mem\")\n",
    "    global node_extracted, empty, has_children\n",
    "    for node in node_extracted[\"children\"]:\n",
    "        \n",
    "        memory.append(node)\n",
    "    empty = False\n",
    "    has_children = False\n",
    "    node_extracted[\"children\"] = []\n",
    "    \n",
    "def stop():\n",
    "    print(\"ACTION: STOP\")\n"
   ]
  },
  {
   "cell_type": "code",
   "execution_count": 0,
   "metadata": {
    "colab": {},
    "colab_type": "code",
    "id": "-jAhRkOcuXLU"
   },
   "outputs": [],
   "source": [
    "memory.append(n0) # adding root node in memory   \n",
    "  \n",
    "while True:\n",
    "    print(memory)\n",
    "        \n",
    "# Sensing\n",
    "    \n",
    "    if len(memory)==0:\n",
    "        empty = True\n",
    "    else: empty = False\n",
    "    \n",
    "    if memory: node_extracted = memory[0]\n",
    "      \n",
    "    if \"children\" in node_extracted.keys():\n",
    "\n",
    "        if len(node_extracted[\"children\"]) != 0:\n",
    "            has_children = True\n",
    "        else: has_children = False\n",
    "    \n",
    "    em = empty\n",
    "    ha = has_children\n",
    "    \n",
    "    # ----------------------- #\n",
    "    \n",
    "    print(\"SENSED: em=\", em, \" ha=\", ha)\n",
    "    print(\"Nodes in memory:\", len(memory))\n",
    "    \n",
    "    \n",
    "# CURRENT STATE = 0\n",
    "    \n",
    "    if current_state == 0:\n",
    "        if (not em) and (not ha):\n",
    "            #node_extracted = memory[0]\n",
    "            extract()\n",
    "            current_state = 1\n",
    "            \n",
    "        elif (not em) and ha:\n",
    "            put_in_mem()\n",
    "            current_state = 2\n",
    "\n",
    "            \n",
    "        elif em:\n",
    "            stop()\n",
    "            break\n",
    "            current_state = 3\n",
    "        \n",
    "        print(\"next state:\", current_state, \"\\n\")\n",
    "        \n",
    "# CURRENT STATE = 1\n",
    "  \n",
    "    elif current_state == 1:\n",
    "        if  (not em) and (not ha):\n",
    "            node_extracted = memory[0]\n",
    "            extract()\n",
    "            current_state = 1\n",
    "           \n",
    "        elif ha:\n",
    "            put_in_mem()\n",
    "            current_state = 2\n",
    "            \n",
    "        elif em and (not ha):\n",
    "            stop()\n",
    "            break\n",
    "            current_state = 3\n",
    "        print(\"next state:\", current_state, \"\\n\")\n",
    "        \n",
    "# CURRENT STATE = 2\n",
    "    \n",
    "    elif current_state == 2:\n",
    "        if (not em) and (not ha):\n",
    "            node_extracted = memory[0]\n",
    "            extract()\n",
    "            current_state = 1\n",
    "            \n",
    "        elif em or ha:\n",
    "            stop()\n",
    "            break\n",
    "            current_state = 3\n",
    "            \n",
    "        print(\"next state:\", current_state, \"\\n\")\n",
    "        \n",
    "    \n",
    "# CURRENT STATE = 3\n",
    "    \n",
    "    elif current_state == 3:\n",
    "        stop()\n",
    "        print(\"next state:\", current_state, \"\\n\")\n",
    "        break"
   ]
  },
  {
   "cell_type": "markdown",
   "metadata": {
    "colab_type": "text",
    "id": "osKkARnjjKXs"
   },
   "source": [
    "# **MINIMUM IN A LIST**\n",
    "\n",
    "### Given a list of integer numbers, the aim of this example is to traverse a list and find the minimum element."
   ]
  },
  {
   "cell_type": "markdown",
   "metadata": {
    "colab_type": "text",
    "id": "-oQFDUDjkkjL"
   },
   "source": [
    "## Data Structure"
   ]
  },
  {
   "cell_type": "markdown",
   "metadata": {
    "colab_type": "text",
    "id": "UgzcbOab10cS"
   },
   "source": [
    "The list can be of any length, and can contain both positive and negative numbers; the only assumptions to be taken into account are the following:\n",
    "\n",
    "1.   The list cannot be empty\n",
    "2.   At the beginning, the minimum number is the first of the list\n",
    "\n",
    "\n",
    "\n",
    "Some examples of lists of that kind, in Python programming language, are shown below."
   ]
  },
  {
   "cell_type": "markdown",
   "metadata": {
    "colab_type": "text",
    "id": "1d4Q7lURCY4e"
   },
   "source": [
    "\n",
    "\n",
    "```\n",
    "list_ex_1 = [8,17,-5,78,13,4,36] #the minimum is in the middle of the list\n",
    "list_ex_2 = [7,22,12,40] #the minimum is at the beginning of the list\n",
    "list_ex_3 = [10,5,13,12,17,-2] #the minimum is at the end of the list\n",
    "list_ex_4 = [99] #the minimum is the only element present in the list\n",
    "```\n",
    "\n"
   ]
  },
  {
   "cell_type": "markdown",
   "metadata": {
    "colab_type": "text",
    "id": "BTCIokUD75Ac"
   },
   "source": [
    "## API"
   ]
  },
  {
   "cell_type": "markdown",
   "metadata": {
    "colab_type": "text",
    "id": "QJrCmMCr1tUh"
   },
   "source": [
    "The problem of finding the minimum number in a list has been solved by just using the **actions** \"*right()*\" , \"*stop()*\" and \"*update_register()*\", and the **tests (observations)** \"*end*\" and \"*lt*\". Later on, it will be given a clear description of both actions and tests.\n",
    "\n",
    "The formalization of actions and tests in Python is shown below."
   ]
  },
  {
   "cell_type": "markdown",
   "metadata": {
    "colab_type": "text",
    "id": "2VE7_3E1qXfg"
   },
   "source": [
    "\n",
    "\n",
    "```\n",
    "#ACTIONS\n",
    "\n",
    "#to traverse the list (like an iterator)\n",
    "def right() :\n",
    "    global s\n",
    "    s += 1\n",
    "\n",
    "    \n",
    "#to stop once the end of the list is reached\n",
    "#end the last element has been tested\n",
    "def stop() :\n",
    "    global sc\n",
    "    sc = True\n",
    "\n",
    "    \n",
    "#to store in the register (i.e. a variable)\n",
    "#the minimum value\n",
    "def update_register() :\n",
    "    global reg\n",
    "    reg = list_ex[s]\n",
    "```\n",
    "\n"
   ]
  },
  {
   "cell_type": "markdown",
   "metadata": {
    "colab_type": "text",
    "id": "iKfvdqJfqiAy"
   },
   "source": [
    "\n",
    "\n",
    "```\n",
    "#TESTS\n",
    "\n",
    "#to check if the element in the list\n",
    "#is less then the one in the register\n",
    "lt = list_ex[s] < reg\n",
    "\n",
    "\n",
    "#to check if the end of the list has been reached\n",
    "end = s == len(list_ex)-1\n",
    "```\n"
   ]
  },
  {
   "cell_type": "markdown",
   "metadata": {
    "colab_type": "text",
    "id": "vuFLpRgz8TbQ"
   },
   "source": [
    "## LTL Formulas"
   ]
  },
  {
   "cell_type": "markdown",
   "metadata": {
    "colab_type": "text",
    "id": "o0B2tUG_1Wgg"
   },
   "source": [
    "Before writing the formalization of the problem in LTL, we now give a description of the actions and observations used both for LTL and for the final Python implementation."
   ]
  },
  {
   "cell_type": "markdown",
   "metadata": {
    "colab_type": "text",
    "id": "7rxPg-A502iG"
   },
   "source": [
    "*Observations:*\n",
    "- **e**(nd) (the cursor is pointing to the last cell)\n",
    "\n",
    "- **lt** (value stored in pointed cell is *less than* that in the register)\n",
    "\n",
    "*Actions:*\n",
    "- **r**(ight) (to move the cursor)\n",
    "\n",
    "- **s**(top) (to stop when the last element of the list has been checked, and so the end of the list has been reached)\n",
    "\n",
    "- **u**(pdate_register) (to update the register with the minimum value of the list)"
   ]
  },
  {
   "cell_type": "markdown",
   "metadata": {
    "colab_type": "text",
    "id": "j6SDaIdh05hX"
   },
   "source": [
    "We now represent the observation abstratctions in compact form by LTL formulas, by using the annotation **{Pre, Eff, Assump, Goal}**; in fact, in order to accomplish the initial task, the following formula must be satisfied."
   ]
  },
  {
   "cell_type": "markdown",
   "metadata": {
    "colab_type": "text",
    "id": "-3d3Bv3408vZ"
   },
   "source": [
    "    Pre AND((Eff AND Assump) => Goal )."
   ]
  },
  {
   "cell_type": "markdown",
   "metadata": {
    "colab_type": "text",
    "id": "5BClh1og0vI8"
   },
   "source": [
    "For this particular example, the LTL formulas are represented as below."
   ]
  },
  {
   "cell_type": "markdown",
   "metadata": {
    "colab_type": "text",
    "id": "AlNdAjb_ztan"
   },
   "source": [
    "* **Formula Pre (*Preconditions*):**\n",
    "  - G(r XOR u XOR s) AND G(s -> X s)\n",
    "  - G(r -> NOT e)\n",
    "\n",
    "\n",
    "* **Formula Eff (*Effects*): initial condition, effects, frame**\n",
    "  - G(u -> (X (NOT lt) AND PERSISTS(e)))\n",
    "  - G(s -> (PERSISTS(e) AND PERSISTS(lt)))\n",
    "\n",
    "\n",
    "* **Formula Assump (*Assumptions*):**\n",
    "  - (G F r) -> F e\n",
    "\n",
    "\n",
    "* **Formula Goal (*Goals*): visit all nodes once, and update the register iff the current value is less than the one in the register**\n",
    "  - F G e\n",
    "  - G(u <-> lt)\n",
    "\n",
    "where, in the formalized formulas, G and F stand for \"Globally\" and \"Eventually\", respectively."
   ]
  },
  {
   "cell_type": "markdown",
   "metadata": {
    "colab_type": "text",
    "id": "Di2A8gHAjKXz"
   },
   "source": [
    "## STRIX"
   ]
  },
  {
   "cell_type": "markdown",
   "metadata": {
    "colab_type": "text",
    "id": "2Tnvyv8B2FuC"
   },
   "source": [
    "The tool that realizes the controller for the given task is ***STRIX*** (https://strix.model.in.tum.de/); we used the online demo version, and the code to be put in is as follows."
   ]
  },
  {
   "cell_type": "markdown",
   "metadata": {
    "colab_type": "text",
    "id": "oOxup53h0lO1"
   },
   "source": [
    "\n",
    "***Assumptions:***\n",
    "\n",
    "true\n",
    "\n",
    "***Guarantees:***\n",
    "\n",
    "G((r & !s & !u) || (!r & s & !u) || (!r & !s & u)) & G(s -> X(s))\n",
    "\n",
    "G(r -> !e)\n",
    "\n",
    "(G(u -> (X(!lt) & (e <-> X(e)))) & G(s -> ((e <-> X(e)) & (lt <-> X(lt)))) & G(F(r)) -> F(e)) -> (F(G(e)) & G(u <-> lt))\n",
    "\n",
    "***Input propositions:***\n",
    "\n",
    "e, lt\n",
    "\n",
    "***Output propositions:***\n",
    "\n",
    "r, s, u\n",
    "\n",
    "<br>\n",
    "\n",
    "where:\n",
    "\n",
    "- \"e\" stands for \"end\"\n",
    "\n",
    "- \"lt\" stands for \"less than\"\n",
    "\n",
    "- \"r\" stands for \"right\"\n",
    "\n",
    "- \"s\" stands for \"stop\"\n",
    "\n",
    "- \"u\" stands for \"update register\"\n",
    "\n",
    "- \"G\" is the Strix notation for \"Globally\"\n",
    "\n",
    "- \"F\" is the Strix notation for \"Eventually\""
   ]
  },
  {
   "cell_type": "markdown",
   "metadata": {
    "colab_type": "text",
    "id": "BI9412_s2IY_"
   },
   "source": [
    "Here it is a screenshot from the Strix page after having put the formulas in the corresponding boxes.\n",
    "\n",
    "![strix code minimum of a list](./images/strix_min_list.JPG)"
   ]
  },
  {
   "cell_type": "markdown",
   "metadata": {
    "colab_type": "text",
    "id": "NSqmI1TdjKX6"
   },
   "source": [
    "This is the resulting automata after having pushed the button \"Synthesize!\" at the bottom of the page.\n",
    "\n",
    "![automata minimum of a list](./images/automata_min_list_for_notebook.JPG)\n",
    "\n",
    "***Legenda***: **e lt / r s u**"
   ]
  },
  {
   "cell_type": "markdown",
   "metadata": {
    "colab_type": "text",
    "id": "0KG5RtakjKX9"
   },
   "source": [
    "And this is the Python code that implements the controller."
   ]
  },
  {
   "cell_type": "markdown",
   "metadata": {
    "colab_type": "text",
    "id": "3ABVNGye3cAC"
   },
   "source": [
    "\n",
    "\n",
    "```\n",
    "while not(sc):\n",
    "\n",
    "        #acting according to strategy\n",
    "        if(currState==0) :\n",
    "            if (not(end) and not(lt)): \n",
    "                right()\n",
    "                print(\"Action performed: right\")\n",
    "                currState = 0\n",
    "        \n",
    "            if (not(end) and lt): \n",
    "                update_register()\n",
    "                print(\"Action performed: update_register\")\n",
    "                currState = 1\n",
    "\n",
    "            if (end and lt): \n",
    "                update_register()\n",
    "                print(\"Action performed: update_register\")\n",
    "                currState = 2\n",
    "\n",
    "            if (end and not(lt)): \n",
    "                stop()\n",
    "                print(\"Action performed: stop\")\n",
    "                currState = 2\n",
    "\n",
    "        elif(currState == 1) :\n",
    "            if (not(end) and not(lt)): \n",
    "                right()\n",
    "                print(\"Action performed: right\")\n",
    "                currState = 0\n",
    "\n",
    "            if(lt or end):\n",
    "                right()\n",
    "                print(\"Action performed: right\")\n",
    "                currState=2\n",
    "\n",
    "        elif(currState == 2) :\n",
    "            stop()\n",
    "            print(\"Action performed: stop\")\n",
    "            currState=2\n",
    "```\n",
    "\n"
   ]
  },
  {
   "cell_type": "markdown",
   "metadata": {
    "colab_type": "text",
    "id": "JOA_IUkIjKYD"
   },
   "source": [
    "## Python implementation"
   ]
  },
  {
   "cell_type": "markdown",
   "metadata": {
    "colab_type": "text",
    "id": "42xIja_nzx5l"
   },
   "source": [
    "Here it is the python implementation of the controller."
   ]
  },
  {
   "cell_type": "code",
   "execution_count": 1,
   "metadata": {
    "colab": {},
    "colab_type": "code",
    "id": "tGRAfgnTUv2m"
   },
   "outputs": [],
   "source": [
    "#----ACTIONS----#\n",
    "\n",
    "#to traverse the list (like an iterator)\n",
    "def right() :\n",
    "    global s\n",
    "    s += 1\n",
    "\n",
    "    \n",
    "#to stop once the end of the list is reached\n",
    "#end the last element has been tested\n",
    "def stop() :\n",
    "    global sc\n",
    "    sc = True\n",
    "\n",
    "    \n",
    "#to store in the register (i.e. a variable)\n",
    "#the minimum value\n",
    "def update_register() :\n",
    "    global reg\n",
    "    reg = list_ex[s]\n",
    "    \n",
    "#---------------#\n",
    "\n",
    "    \n",
    "#implementation of the controller    \n",
    "def run():\n",
    "\n",
    "    #state of the world\n",
    "    global s\n",
    "    s = 0\n",
    "  \n",
    "    #stopping condition\n",
    "    global sc\n",
    "    sc = False    \n",
    "    \n",
    "    #state of the automaton (starting node)\n",
    "    currState = 0\n",
    "    \n",
    "    #initialization of the register\n",
    "    global reg\n",
    "    reg = list_ex[s]\n",
    "    \n",
    "    \n",
    "    while not(sc):\n",
    "      \n",
    "        #----OBSERVATIONS----#\n",
    "        \n",
    "        #to check if the element in the list\n",
    "        #is less then the one in the register\n",
    "        lt = list_ex[s] < reg\n",
    "\n",
    "        #to check if the end of the list has been reached\n",
    "        end = s == len(list_ex)-1\n",
    "        \n",
    "        #--------------------#\n",
    "        \n",
    "\n",
    "        #acting according to strategy\n",
    "        if(currState==0) :\n",
    "            if (not(end) and not(lt)): \n",
    "                right()\n",
    "                print(\"Action performed: right\")\n",
    "                currState = 0\n",
    "        \n",
    "            if (not(end) and lt): \n",
    "                update_register()\n",
    "                print(\"Action performed: update_register\")\n",
    "                currState = 1\n",
    "\n",
    "            if (end and lt): \n",
    "                update_register()\n",
    "                print(\"Action performed: update_register\")\n",
    "                currState = 2\n",
    "\n",
    "            if (end and not(lt)): \n",
    "                stop()\n",
    "                print(\"Action performed: stop\")\n",
    "                currState = 2\n",
    "\n",
    "        elif(currState == 1) :\n",
    "            if (not(end) and not(lt)): \n",
    "                right()\n",
    "                print(\"Action performed: right\")\n",
    "                currState = 0\n",
    "\n",
    "            if(lt or end):\n",
    "                right()\n",
    "                print(\"Action performed: right\")\n",
    "                currState=2\n",
    "\n",
    "        elif(currState == 2) :\n",
    "            stop()\n",
    "            print(\"Action performed: stop\")\n",
    "            currState=2\n",
    "            \n",
    "          \n",
    "    return reg"
   ]
  },
  {
   "cell_type": "code",
   "execution_count": 2,
   "metadata": {
    "colab": {},
    "colab_type": "code",
    "id": "0WGbwiPNIuRz"
   },
   "outputs": [],
   "source": [
    "def main() :\n",
    "    list_ex_1 = [8,17,-5,78,13,4,36] #the minimum is in the middle of the list\n",
    "    list_ex_2 = [7,22,12,40] #the minimum is at the beginning of the list\n",
    "    list_ex_3 = [10,5,13,12,17,-2] #the minimum is at the end of the list\n",
    "    list_ex_4 = [99] #the minimum is the only element present in the list\n",
    "    \n",
    "    listOfLists = [list_ex_1, list_ex_2, list_ex_3, list_ex_4]\n",
    "    for i in range(len(listOfLists)):\n",
    "        global list_ex\n",
    "        list_ex = listOfLists[i]\n",
    "        print(\"List: \",list_ex)\n",
    "        print(\"Minimum value of the list:\", run())\n",
    "        print()       "
   ]
  },
  {
   "cell_type": "code",
   "execution_count": 3,
   "metadata": {
    "colab": {
     "base_uri": "https://localhost:8080/",
     "height": 603
    },
    "colab_type": "code",
    "executionInfo": {
     "elapsed": 794,
     "status": "ok",
     "timestamp": 1559746225052,
     "user": {
      "displayName": "Daniele Giunta",
      "photoUrl": "https://lh3.googleusercontent.com/-qKcXtSdAwno/AAAAAAAAAAI/AAAAAAAAARo/ARzIM3u377k/s64/photo.jpg",
      "userId": "08354110141854084906"
     },
     "user_tz": -120
    },
    "id": "_0sAMQWAL9vR",
    "outputId": "e1aace4e-343b-45a5-8835-93db9f217e5a"
   },
   "outputs": [
    {
     "name": "stdout",
     "output_type": "stream",
     "text": [
      "List:  [8, 17, -5, 78, 13, 4, 36]\n",
      "Action performed: right\n",
      "Action performed: right\n",
      "Action performed: update_register\n",
      "Action performed: right\n",
      "Action performed: right\n",
      "Action performed: right\n",
      "Action performed: right\n",
      "Action performed: stop\n",
      "Minimum value of the list: -5\n",
      "\n",
      "List:  [7, 22, 12, 40]\n",
      "Action performed: right\n",
      "Action performed: right\n",
      "Action performed: right\n",
      "Action performed: stop\n",
      "Minimum value of the list: 7\n",
      "\n",
      "List:  [10, 5, 13, 12, 17, -2]\n",
      "Action performed: right\n",
      "Action performed: update_register\n",
      "Action performed: right\n",
      "Action performed: right\n",
      "Action performed: right\n",
      "Action performed: right\n",
      "Action performed: update_register\n",
      "Action performed: stop\n",
      "Minimum value of the list: -2\n",
      "\n",
      "List:  [99]\n",
      "Action performed: stop\n",
      "Minimum value of the list: 99\n",
      "\n"
     ]
    }
   ],
   "source": [
    "main()"
   ]
  },
  {
   "cell_type": "markdown",
   "metadata": {
    "colab_type": "text",
    "id": "EqsNDHV7jKY6"
   },
   "source": [
    "# **COPY EVEN NUMBERS OF A LIST INTO ANOTHER LIST**\n",
    "\n",
    "### Given a list of integer numbers, the aim of this example is to traverse a list and copy all the even numbers into another list."
   ]
  },
  {
   "cell_type": "markdown",
   "metadata": {
    "colab_type": "text",
    "id": "6WKkC2YyQAR0"
   },
   "source": [
    "## Data Structure"
   ]
  },
  {
   "cell_type": "markdown",
   "metadata": {
    "colab_type": "text",
    "id": "_iLZJdpnQJD2"
   },
   "source": [
    "The list can be of any length, and can contain both positive and negative numbers; the only assumption to be taken into account is the following:\n",
    "\n",
    "1.   The list cannot be empty\n",
    "\n",
    "Some examples of lists of that kind, in Python programming language, are shown below."
   ]
  },
  {
   "cell_type": "markdown",
   "metadata": {
    "colab_type": "text",
    "id": "MCWE5hl3Cj8l"
   },
   "source": [
    "\n",
    "\n",
    "```\n",
    "list_ex_1 = [8, 17,-5, 78, 13, 4, 36] #both even and odd numbers\n",
    "list_ex_2 = [6,-22, 12, 40] #only even numbers\n",
    "list_ex_3 = [11,-5, 13, 1, 17, -3] #only odd numbers\n",
    "\n",
    "```\n",
    "\n"
   ]
  },
  {
   "cell_type": "markdown",
   "metadata": {
    "colab_type": "text",
    "id": "axRfwO-qRpb-"
   },
   "source": [
    "## API"
   ]
  },
  {
   "cell_type": "markdown",
   "metadata": {
    "colab_type": "text",
    "id": "GS1Uw78MR14Z"
   },
   "source": [
    "The poblem of copying only even numbers into a list has been solved by just using the **actions** \"*right()*\" , \"*stop()*\" and \"*add()*\", and the **tests (observations)** \"*end*\", \"*even*\" and \"*hasput*\". Later on, it will be given a clear description of all the actions and tests.\n",
    "\n",
    "The formalization of actions and tests in Python is shown below."
   ]
  },
  {
   "cell_type": "markdown",
   "metadata": {
    "colab_type": "text",
    "id": "9b-EMzoVSdye"
   },
   "source": [
    "\n",
    "\n",
    "```\n",
    "#ACTIONS\n",
    "\n",
    "#to traverse the list (like an iterator)\n",
    "#and to say that no element has been added\n",
    "#to the new list\n",
    "def right() :\n",
    "    s[0] += 1\n",
    "    s[1] = False\n",
    "\n",
    "\n",
    "#to stop once the end of the list is reached\n",
    "#end the last element has been tested\n",
    "def stop() :\n",
    "    global st\n",
    "    st = True\n",
    "\n",
    "\n",
    "#to add the even number to the new list (i.e. a variable)\n",
    "#and to say that the current element has been added\n",
    "#to the new list\n",
    "def add_elem() :\n",
    "    global reg\n",
    "    reg.append(list_ex[s[0]])\n",
    "    s[1] = True\n",
    "```\n",
    "\n"
   ]
  },
  {
   "cell_type": "markdown",
   "metadata": {
    "colab_type": "text",
    "id": "VD6xVr_pTdgl"
   },
   "source": [
    "\n",
    "\n",
    "```\n",
    "  #TESTS\n",
    "  \n",
    "  #to check if the current element is even\n",
    "  even = list_ex[s[0]]%2 == 0\n",
    "  \n",
    "  \n",
    "  #to check if the end of the list has been reached\n",
    "  end = s[0] == len(list_ex)-1\n",
    "  \n",
    "  \n",
    "  #to check if the current element has been put into\n",
    "  #the new list\n",
    "  put = s[1]\n",
    "\n",
    "```"
   ]
  },
  {
   "cell_type": "markdown",
   "metadata": {
    "colab_type": "text",
    "id": "KyG9-wH3UoTb"
   },
   "source": [
    "## LTL Formulas"
   ]
  },
  {
   "cell_type": "markdown",
   "metadata": {
    "colab_type": "text",
    "id": "DrHcTDE2UpSY"
   },
   "source": [
    "Before writing the formalization of the problem in LTL, we now give a description of the actions and observations used both for LTL and for the final Python implementation."
   ]
  },
  {
   "cell_type": "markdown",
   "metadata": {
    "colab_type": "text",
    "id": "ET0PJbtjjKY8"
   },
   "source": [
    "*Observations:*\n",
    "- **e**(nd) (cursor at last cell)\n",
    "\n",
    "- **even** (value stored in pointed cell is even)\n",
    "\n",
    "- (has)**put** (the even number has been put into the list of only even numbers)\n",
    "\n",
    "*Actions:*\n",
    "- **r**(ight) (to move the cursor)\n",
    "\n",
    "- **s**(top)\n",
    "\n",
    "- **a**(dd) (to add the even number to the list of only even numbers)"
   ]
  },
  {
   "cell_type": "markdown",
   "metadata": {
    "colab_type": "text",
    "id": "R8oA8-LzVgf1"
   },
   "source": [
    "We now represent the observation abstratctions in compact form by LTL formulas, by using the annotation **{Pre, Eff, Assump, Goal}**; in fact, in order to accomplish the initial task, the following formula must be satisfied."
   ]
  },
  {
   "cell_type": "markdown",
   "metadata": {
    "colab_type": "text",
    "id": "BdtzexbtVriW"
   },
   "source": [
    "    P AND((E AND A) => G )."
   ]
  },
  {
   "cell_type": "markdown",
   "metadata": {
    "colab_type": "text",
    "id": "uyQl8jrcVvQr"
   },
   "source": [
    "For this particular example, the LTL formulas are represented as below."
   ]
  },
  {
   "cell_type": "markdown",
   "metadata": {
    "colab_type": "text",
    "id": "FSF0QWWKVmX4"
   },
   "source": [
    "* **Formula Pre (*Preconditions*):** \n",
    "  - G(r XOR a XOR s) AND G(s -> X s)\n",
    "  - G(r -> NOT e)\n",
    "\n",
    "\n",
    "* **Formula Eff (*Effects*): initial condition, effects, frame**\n",
    "  - G(a -> (X(hasput) AND PERSISTS(even) AND PERSISTS(end)))\n",
    "  - G(s -> (PERSISTS(end) AND PERSISTS(hasput) AND PERSISTS(even))\n",
    "\n",
    "\n",
    "* **Formula Assump (*Assumption*):**\n",
    "  - (G F r) -> F e\n",
    "\n",
    "\n",
    "* **Formula Goal (*Goals*): visit all nodes once, and add the element in the new list iff it is even and it has not been put yet**\n",
    "  - F G e\n",
    "  - G(a <-> (even AND NOT hasput)))\n",
    "\n",
    "\n",
    "where, in the formalized formulas, G and F means \"Globally\" and \"Eventually\", respectively.\n"
   ]
  },
  {
   "cell_type": "markdown",
   "metadata": {
    "colab_type": "text",
    "id": "QZJ4Lh1TYpCt"
   },
   "source": [
    "## STRIX"
   ]
  },
  {
   "cell_type": "markdown",
   "metadata": {
    "colab_type": "text",
    "id": "37FF-EGTYyzm"
   },
   "source": [
    "The tool that realizes the controller for the given task is ***STRIX*** (https://strix.model.in.tum.de/); we used the online demo version, and the code to be put in is as follows."
   ]
  },
  {
   "cell_type": "markdown",
   "metadata": {
    "colab_type": "text",
    "id": "16g4qg39jKZC"
   },
   "source": [
    "\n",
    "***Assumptions:***\n",
    "\n",
    "true\n",
    "\n",
    "***Guarantees:***\n",
    "\n",
    "G((r & !s & !a) || (!r & s & !a) || (!r & !s & a)) & G(s -> X(s))\n",
    "\n",
    "G(r -> !e)\n",
    "\n",
    "(G(a -> (X(hasput) & (even <-> X(even)) & (e <-> X(e)))) & G(s -> ((e <-> X(e)) & (hasput <-> X(hasput)) & (even <-> X(even)))) AND G(F(r)) -> F(e)) -> (F(G(e)) & G(a <-> (even & !hasput)))\n",
    "\n",
    "\n",
    "***Input propositions:***\n",
    "\n",
    "e, even, hasput\n",
    "\n",
    "***Output propositions:***\n",
    "\n",
    "r, s, a\n",
    "\n",
    "<br>\n",
    "\n",
    "where:\n",
    "\n",
    "- \"e\" stands for \"end\"\n",
    "\n",
    "- \"even\" stands for \"even\"\n",
    "\n",
    "- \"hasput\" stands for \"has been put\"\n",
    "\n",
    "- \"r\" stands for \"right\"\n",
    "\n",
    "- \"s\" stands for \"stop\"\n",
    "\n",
    "- \"a\" stands for \"add\"\n",
    "\n",
    "- \"G\" is the Strix notation for \"Globally\"\n",
    "\n",
    "- \"F\" is the Strix notation for \"Eventually\""
   ]
  },
  {
   "cell_type": "markdown",
   "metadata": {
    "colab_type": "text",
    "id": "zoXSIeJxxvz_"
   },
   "source": [
    "Here it is a screenshot from the Strix page after having put the formulas in the corresponding boxes.\n",
    "\n",
    "![strix code copy even](./images/strix_copy_even.JPG)"
   ]
  },
  {
   "cell_type": "markdown",
   "metadata": {
    "colab_type": "text",
    "id": "NhlaOogKjKZI"
   },
   "source": [
    "This is the resulting automata after having pushed the button \"Synthesize!\" at the bottom of the page.\n",
    "\n",
    "![automata copy even](./images/automata_copy_even_for_notebook.JPG)\n",
    "\n",
    "***Legenda***: **e even hasput / r s a**"
   ]
  },
  {
   "cell_type": "markdown",
   "metadata": {
    "colab_type": "text",
    "id": "eRUUh3XkyrEN"
   },
   "source": [
    "And this is the Python code that implements the controller."
   ]
  },
  {
   "cell_type": "markdown",
   "metadata": {
    "colab_type": "text",
    "id": "-zAQYP_hyxEC"
   },
   "source": [
    "\n",
    "\n",
    "```\n",
    "while not(st):\n",
    "\n",
    "    #acting according to strategy\n",
    "    if (currState == 0):\n",
    "\n",
    "        if (not(end) and not(even)): \n",
    "            right()\n",
    "            currState = 0\n",
    "\n",
    "        if (not(end) and even and not(put)): \n",
    "            add_elem()\n",
    "            #print(\"QUA 2\")\n",
    "            currState = 1\n",
    "\n",
    "        if (end and even and not(put)): \n",
    "            add_elem()\n",
    "            currState = 2\n",
    "\n",
    "        if (end and not(even)) :\n",
    "            stop()\n",
    "            currState = 2\n",
    "\n",
    "    elif (currState == 1):\n",
    "\n",
    "        if (not(end) and even and put):\n",
    "            right()\n",
    "            currState = 0\n",
    "\n",
    "        if (end or not(even) or not(put)) :\n",
    "            stop()\n",
    "            currState = 2\n",
    "\n",
    "    elif (currState == 2):\n",
    "        stop()\n",
    "        currState = 2\n",
    "\n",
    "```\n",
    "\n"
   ]
  },
  {
   "cell_type": "markdown",
   "metadata": {
    "colab_type": "text",
    "id": "QiLFDu1SjKZN"
   },
   "source": [
    "## Python implementation"
   ]
  },
  {
   "cell_type": "markdown",
   "metadata": {
    "colab_type": "text",
    "id": "3m3lDs9Rz8ST"
   },
   "source": [
    "Here it is the python implementation of the controller."
   ]
  },
  {
   "cell_type": "code",
   "execution_count": 4,
   "metadata": {
    "colab": {},
    "colab_type": "code",
    "id": "5gH1vQqFjKZQ"
   },
   "outputs": [],
   "source": [
    "#----ACTIONS----#\n",
    "\n",
    "#to traverse the list (like an iterator)\n",
    "def right() :\n",
    "    global s\n",
    "    s[0] += 1\n",
    "    s[1] = False\n",
    "\n",
    "\n",
    "#to stop once the end of the list is reached\n",
    "#end the last element has been tested\n",
    "def stop() :\n",
    "    global sc\n",
    "    sc = True\n",
    "\n",
    "\n",
    "#to add the even number to the new list (i.e. a variable)\n",
    "def add_elem() :\n",
    "    global reg\n",
    "    reg.append(list_ex[s[0]])\n",
    "    s[1] = True\n",
    "    \n",
    "#---------------#\n",
    "    \n",
    "    \n",
    "#implementation of the controller    \n",
    "def run() :\n",
    "    \n",
    "    #state of the world\n",
    "    #i.e. [position of the cursor, element added to the new list]\n",
    "    global s\n",
    "    s = [0,False]\n",
    "    \n",
    "    #stopping condition\n",
    "    global sc\n",
    "    sc = False\n",
    "    \n",
    "    #state of the automaton (starting node)\n",
    "    currState = 0\n",
    "    \n",
    "    #initialization of the register (list of only even numbers)\n",
    "    global reg\n",
    "    reg = []\n",
    "    \n",
    "    while not(sc):\n",
    "        \n",
    "        #----OBSERVATIONS----#\n",
    "        \n",
    "        #to check if the element in the list\n",
    "        #is even\n",
    "        even = list_ex[s[0]]%2 == 0\n",
    "        \n",
    "        #to check if the end of the list has been reached\n",
    "        end = s[0] == len(list_ex)-1\n",
    "\n",
    "        #to check if the even number of the list\n",
    "        #has been put into the new list\n",
    "        put = s[1]\n",
    "        \n",
    "        #--------------------#\n",
    "        \n",
    "    \n",
    "        #acting according to strategy\n",
    "        if (currState == 0):\n",
    "    \n",
    "            if (not(end) and not(even)): \n",
    "                right()\n",
    "                print(\"Action performed: right\")\n",
    "                currState = 0\n",
    "    \n",
    "            if (not(end) and even and not(put)): \n",
    "                add_elem()\n",
    "                print(\"Action performed: add_element\")\n",
    "                currState = 1\n",
    "    \n",
    "            if (end and even and not(put)): \n",
    "                add_elem()\n",
    "                print(\"Action performed: add_element\")\n",
    "                currState = 2\n",
    "    \n",
    "            if (end and not(even)) :\n",
    "                stop()\n",
    "                print(\"Action performed: stop\")\n",
    "                currState = 2\n",
    "    \n",
    "        elif (currState == 1):\n",
    "    \n",
    "            if (not(end) and even and put):\n",
    "                right()\n",
    "                print(\"Action performed: right\")\n",
    "                currState = 0\n",
    "    \n",
    "            if (end or not(even) or not(put)) :\n",
    "                stop()\n",
    "                print(\"Action performed: stop\")\n",
    "                currState = 2\n",
    "    \n",
    "        elif (currState == 2):\n",
    "            stop()\n",
    "            print(\"Action performed: stop\")\n",
    "            currState = 2\n",
    "            \n",
    "    return reg\n"
   ]
  },
  {
   "cell_type": "code",
   "execution_count": 5,
   "metadata": {
    "colab": {},
    "colab_type": "code",
    "id": "pSCRT_LzjKZa"
   },
   "outputs": [],
   "source": [
    "def main() :\n",
    "    list_ex_1 = [8,17,-5,78,13,4,36] #both even and odd numbers\n",
    "    list_ex_2 = [6,-22,12,40] #only even numbers\n",
    "    list_ex_3 = [11,-5,13,1,17,-3] #only odd numbers\n",
    "    \n",
    "    listOfLists = [list_ex_1, list_ex_2, list_ex_3]\n",
    "\n",
    "\n",
    "    for i in range(len(listOfLists)):\n",
    "        global list_ex\n",
    "        list_ex = listOfLists[i]\n",
    "        print(\"List: \",list_ex)\n",
    "        print(\"List of even numbers:\", run())\n",
    "        print()      "
   ]
  },
  {
   "cell_type": "code",
   "execution_count": 6,
   "metadata": {
    "colab": {
     "base_uri": "https://localhost:8080/",
     "height": 621
    },
    "colab_type": "code",
    "executionInfo": {
     "elapsed": 694,
     "status": "ok",
     "timestamp": 1559746064253,
     "user": {
      "displayName": "Daniele Giunta",
      "photoUrl": "https://lh3.googleusercontent.com/-qKcXtSdAwno/AAAAAAAAAAI/AAAAAAAAARo/ARzIM3u377k/s64/photo.jpg",
      "userId": "08354110141854084906"
     },
     "user_tz": -120
    },
    "id": "1_TOvN83jKZj",
    "outputId": "186decb5-e9f4-4fda-fada-fde4e216c354"
   },
   "outputs": [
    {
     "name": "stdout",
     "output_type": "stream",
     "text": [
      "List:  [8, 17, -5, 78, 13, 4, 36]\n",
      "Action performed: add_element\n",
      "Action performed: right\n",
      "Action performed: right\n",
      "Action performed: right\n",
      "Action performed: add_element\n",
      "Action performed: right\n",
      "Action performed: right\n",
      "Action performed: add_element\n",
      "Action performed: right\n",
      "Action performed: add_element\n",
      "Action performed: stop\n",
      "List of even numbers: [8, 78, 4, 36]\n",
      "\n",
      "List:  [6, -22, 12, 40]\n",
      "Action performed: add_element\n",
      "Action performed: right\n",
      "Action performed: add_element\n",
      "Action performed: right\n",
      "Action performed: add_element\n",
      "Action performed: right\n",
      "Action performed: add_element\n",
      "Action performed: stop\n",
      "List of even numbers: [6, -22, 12, 40]\n",
      "\n",
      "List:  [11, -5, 13, 1, 17, -3]\n",
      "Action performed: right\n",
      "Action performed: right\n",
      "Action performed: right\n",
      "Action performed: right\n",
      "Action performed: right\n",
      "Action performed: stop\n",
      "List of even numbers: []\n",
      "\n"
     ]
    }
   ],
   "source": [
    "main()"
   ]
  },
  {
   "cell_type": "markdown",
   "metadata": {
    "colab_type": "text",
    "id": "bC415SK0Fiks"
   },
   "source": [
    "# **BUBBLE SORT**\n",
    "\n",
    "### Sorting a list of integers"
   ]
  },
  {
   "cell_type": "markdown",
   "metadata": {
    "colab_type": "text",
    "id": "Qk_WDw44NDEJ"
   },
   "source": [
    "## Data structures\n",
    "$l$ : list of integers\n",
    "\n",
    "---------------------\n",
    "Parameters\n",
    "* $n = length(l)$ - length of the list\n",
    "\n",
    "Assumptions\n",
    "*   $n \\ge 2$\n",
    "\n",
    "\n"
   ]
  },
  {
   "cell_type": "code",
   "execution_count": 2,
   "metadata": {
    "colab": {},
    "colab_type": "code",
    "id": "sC5mFJBlNGpy"
   },
   "outputs": [],
   "source": [
    "# input list\n",
    "l = [0,-3,-4,100,6,45,32,21,-23,-6,5,5,1]"
   ]
  },
  {
   "cell_type": "markdown",
   "metadata": {
    "colab_type": "text",
    "id": "aAczLG4XX_K9"
   },
   "source": [
    "### State\n",
    "\n",
    "$s = (cursor, swap_{mem})$      \n",
    "- $cursor \\in \\{0,...,n-2\\}$\n",
    "- $swap_{mem} \\in \\{True,False\\}$"
   ]
  },
  {
   "cell_type": "code",
   "execution_count": 3,
   "metadata": {
    "colab": {},
    "colab_type": "code",
    "id": "acIceOtfYEw8"
   },
   "outputs": [],
   "source": [
    "# initial world state\n",
    "s = [0,False]"
   ]
  },
  {
   "cell_type": "markdown",
   "metadata": {
    "colab_type": "text",
    "id": "6iHqD3WtN1ab"
   },
   "source": [
    "## API"
   ]
  },
  {
   "cell_type": "markdown",
   "metadata": {
    "colab_type": "text",
    "id": "lvJuN2ZtVXt2"
   },
   "source": [
    "*Observations*\n",
    "- **changed**  - in the last iteration a swap has happened\n",
    "- **lte** - the element at position $cursor$ is less then or equal to the element at position $cursor$+1\n",
    "- **end** - the $cursor$ is at the last position of the list ($n$-2)                \n",
    "\n",
    "*Actions*\n",
    "- **sw**(ap) - swap two consecutive elements of the list and set $swap_{mem} = True$\n",
    "- **r**(ight) - sum 1 to the current $cursor$ value\n",
    "- **b**(egin) - initialize $cursor$ at 0 and set $swap_{mem} = False$\n",
    "- **s**(top)"
   ]
  },
  {
   "cell_type": "code",
   "execution_count": 4,
   "metadata": {
    "colab": {},
    "colab_type": "code",
    "id": "jaBUTuhtN3aD"
   },
   "outputs": [],
   "source": [
    "def swap():\n",
    "\treg = l[s[0]]\n",
    "\tl[s[0]] = l[s[0]+1]\n",
    "\tl[s[0]+1] = reg\n",
    "\n",
    "\ts[1] = True\n",
    "\t#print('swap')\n",
    "\n",
    "def right():\n",
    "\ts[0]+=1\n",
    "\t#print('right')\n",
    "\n",
    "def begin():\n",
    "\ts[0]=0\n",
    "\ts[1] = False\n",
    "\t#print('begin')\n",
    "\n",
    "def stop():\n",
    "\tglobal st\n",
    "\tst = True\n",
    "\t#print('stop')\n",
    "\n",
    "def observe():\n",
    "\tlte = l[s[0]] <= l[s[0]+1]\n",
    "\tend = s[0] == len(l)-2\n",
    "\tmem = s[1]\n",
    "\n",
    "\treturn lte,end,mem"
   ]
  },
  {
   "cell_type": "markdown",
   "metadata": {
    "colab_type": "text",
    "id": "UhMfLYqvOCop"
   },
   "source": [
    "## LTL "
   ]
  },
  {
   "cell_type": "markdown",
   "metadata": {
    "colab_type": "text",
    "id": "5nkWmYKGPBra"
   },
   "source": [
    "### Formulae\n",
    "\n",
    "* **Formula Pre** (preconditions)\n",
    "  - $G(sw \\oplus b \\oplus st \\oplus r) \\wedge G(st \\to X st)$\n",
    "  - $G(r \\to (\\neg e \\wedge lte))$\n",
    "  - $G(ciao)$\n",
    "  - $G(ciao)$\n",
    "  \n",
    "\n",
    "\n",
    "* **Formula Eff**: (initial condition, effects, frame)\n",
    "  - $G(u -> (X (NOT lt) AND PERSISTS(e)))$\n",
    "  - $G(s -> (PERSISTS(e) AND PERSISTS(lt)))$\n",
    "\n",
    "\n",
    "* **Formula Assump** (fairness)\n",
    "  - $(G E r) -> E e$\n",
    "\n",
    "\n",
    "* **Formula Goal** (goal)\n",
    "  - $E G e$\n",
    "  - $G(u <-> lt)$"
   ]
  },
  {
   "cell_type": "markdown",
   "metadata": {
    "colab_type": "text",
    "id": "oyGZVGXCOFYs"
   },
   "source": [
    "### STRIX"
   ]
  },
  {
   "cell_type": "markdown",
   "metadata": {
    "colab_type": "text",
    "id": "GMFIiBiyOZlw"
   },
   "source": [
    "## Controller implementation"
   ]
  },
  {
   "cell_type": "code",
   "execution_count": 0,
   "metadata": {
    "colab": {},
    "colab_type": "code",
    "id": "-MypDulFO2sD"
   },
   "outputs": [],
   "source": [
    "# stopping condition\n",
    "st = False\n",
    "\n",
    "def main():\n",
    "\n",
    "\t# initial strategy state\n",
    "\tu_s = 0\n",
    "\n",
    "\tprint('Input:',l)\n",
    "\n",
    "\twhile not st: \n",
    "\t\t\n",
    "\t\t# sensing\n",
    "\t\tlte,end,mem = observe()\n",
    "\n",
    "\t\t# acting\n",
    "\t\tif u_s == 0:\n",
    "\t\t\tif (not lte): swap(); u_s = 0;\n",
    "\t\t\tif (not end and lte): right(); u_s = 0;\n",
    "\t\t\tif (end and mem and lte): begin(); u_s = 0;\n",
    "\t\t\tif (end and not mem and lte): stop(); u_s = 1;\n",
    "\t\telif u_s == 1:\n",
    "\t\t\tstop()\n",
    "\t\t\tu_s = 1\n",
    "\n",
    "\tprint('Output:',l)"
   ]
  },
  {
   "cell_type": "code",
   "execution_count": 0,
   "metadata": {
    "colab": {},
    "colab_type": "code",
    "id": "6zUiXq-lPYbJ"
   },
   "outputs": [],
   "source": [
    "main()"
   ]
  }
 ],
 "metadata": {
  "colab": {
   "collapsed_sections": [
    "Di2A8gHAjKXz",
    "QZJ4Lh1TYpCt"
   ],
   "name": "Examples in Jupyter.ipynb",
   "provenance": [],
   "toc_visible": true,
   "version": "0.3.2"
  },
  "kernelspec": {
   "display_name": "Python 3",
   "language": "python",
   "name": "python3"
  },
  "language_info": {
   "codemirror_mode": {
    "name": "ipython",
    "version": 3
   },
   "file_extension": ".py",
   "mimetype": "text/x-python",
   "name": "python",
   "nbconvert_exporter": "python",
   "pygments_lexer": "ipython3",
   "version": "3.6.6"
  }
 },
 "nbformat": 4,
 "nbformat_minor": 1
}
